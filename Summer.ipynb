{
 "cells": [
  {
   "cell_type": "markdown",
   "id": "511757c7-91e8-4c74-95c8-2bb235f740c6",
   "metadata": {},
   "source": [
    "# By:-   Happy Dilipbhai Mistry"
   ]
  },
  {
   "cell_type": "code",
   "execution_count": 27,
   "id": "2fcb4263-6138-4990-82e3-2efb4f80565c",
   "metadata": {},
   "outputs": [],
   "source": [
    "import pandas as pd\n",
    "import numpy as np\n",
    "import matplotlib.pyplot as plt"
   ]
  },
  {
   "cell_type": "code",
   "execution_count": 28,
   "id": "8e6208aa-0e9d-441d-bfd8-3bc8d3d0e970",
   "metadata": {},
   "outputs": [],
   "source": [
    "f=pd.read_csv('C:/Users/HAPPY MISTRY/Desktop/summer.csv')"
   ]
  },
  {
   "cell_type": "markdown",
   "id": "0c5ef946-51af-4779-a108-c1fae7fc10d0",
   "metadata": {},
   "source": [
    "# 1. In how many cities Summer Olympics is held so far?"
   ]
  },
  {
   "cell_type": "code",
   "execution_count": 4,
   "id": "9e32febb-0cb4-43ae-a623-0f21e396a6c6",
   "metadata": {},
   "outputs": [
    {
     "name": "stdout",
     "output_type": "stream",
     "text": [
      "\n",
      "There are 22 cities in total.\n",
      "\n",
      "Cities where Summer Olympics was held:\n",
      "\t-> Athens\n",
      "\t-> Paris\n",
      "\t-> St Louis\n",
      "\t-> London\n",
      "\t-> Stockholm\n",
      "\t-> Antwerp\n",
      "\t-> Amsterdam\n",
      "\t-> Los Angeles\n",
      "\t-> Berlin\n",
      "\t-> Helsinki\n",
      "\t-> Melbourne / Stockholm\n",
      "\t-> Rome\n",
      "\t-> Tokyo\n",
      "\t-> Mexico\n",
      "\t-> Munich\n",
      "\t-> Montreal\n",
      "\t-> Moscow\n",
      "\t-> Seoul\n",
      "\t-> Barcelona\n",
      "\t-> Atlanta\n",
      "\t-> Sydney\n",
      "\t-> Beijing\n"
     ]
    }
   ],
   "source": [
    "l = f['City'].unique()\n",
    "print()\n",
    "print('There are',len(l),'cities in total.\\n')\n",
    "print('Cities where Summer Olympics was held:')\n",
    "for i in l:\n",
    "    print('\\t->',i)"
   ]
  },
  {
   "cell_type": "markdown",
   "id": "46d5b416-690b-45a6-a7a6-52ca588e42c3",
   "metadata": {},
   "source": [
    "# 2. Which sport is having most number of Gold Medals so far? (TOP 5)"
   ]
  },
  {
   "cell_type": "code",
   "execution_count": 5,
   "id": "60ba2899-b7e0-453b-81a7-6eecb5b93a05",
   "metadata": {},
   "outputs": [],
   "source": [
    "gold = f[f['Medal']=='Gold']\n",
    "medals_per_city = gold.groupby('Sport')['Medal'].count().sort_values(ascending = False).reset_index(name = 'Medal Count')\n"
   ]
  },
  {
   "cell_type": "markdown",
   "id": "fa59d20d-7eb2-445f-916d-1258d81033af",
   "metadata": {},
   "source": [
    "## DATA FRAME"
   ]
  },
  {
   "cell_type": "code",
   "execution_count": 6,
   "id": "900640af-4441-4d3d-9ea6-d72b188fbfec",
   "metadata": {},
   "outputs": [
    {
     "data": {
      "text/html": [
       "<div>\n",
       "<style scoped>\n",
       "    .dataframe tbody tr th:only-of-type {\n",
       "        vertical-align: middle;\n",
       "    }\n",
       "\n",
       "    .dataframe tbody tr th {\n",
       "        vertical-align: top;\n",
       "    }\n",
       "\n",
       "    .dataframe thead th {\n",
       "        text-align: right;\n",
       "    }\n",
       "</style>\n",
       "<table border=\"1\" class=\"dataframe\">\n",
       "  <thead>\n",
       "    <tr style=\"text-align: right;\">\n",
       "      <th></th>\n",
       "      <th>Sport</th>\n",
       "      <th>Medal Count</th>\n",
       "    </tr>\n",
       "  </thead>\n",
       "  <tbody>\n",
       "    <tr>\n",
       "      <th>0</th>\n",
       "      <td>Aquatics</td>\n",
       "      <td>1421</td>\n",
       "    </tr>\n",
       "    <tr>\n",
       "      <th>1</th>\n",
       "      <td>Athletics</td>\n",
       "      <td>1215</td>\n",
       "    </tr>\n",
       "    <tr>\n",
       "      <th>2</th>\n",
       "      <td>Rowing</td>\n",
       "      <td>890</td>\n",
       "    </tr>\n",
       "    <tr>\n",
       "      <th>3</th>\n",
       "      <td>Gymnastics</td>\n",
       "      <td>820</td>\n",
       "    </tr>\n",
       "    <tr>\n",
       "      <th>4</th>\n",
       "      <td>Fencing</td>\n",
       "      <td>552</td>\n",
       "    </tr>\n",
       "  </tbody>\n",
       "</table>\n",
       "</div>"
      ],
      "text/plain": [
       "        Sport  Medal Count\n",
       "0    Aquatics         1421\n",
       "1   Athletics         1215\n",
       "2      Rowing          890\n",
       "3  Gymnastics          820\n",
       "4     Fencing          552"
      ]
     },
     "execution_count": 6,
     "metadata": {},
     "output_type": "execute_result"
    }
   ],
   "source": [
    "medals_per_city.head()"
   ]
  },
  {
   "cell_type": "markdown",
   "id": "80c89b81-e197-48cc-8ccd-4a218859da41",
   "metadata": {},
   "source": [
    "## GRAPH"
   ]
  },
  {
   "cell_type": "code",
   "execution_count": 7,
   "id": "366bc17d-a2d7-48cd-b680-626c4e025e19",
   "metadata": {},
   "outputs": [
    {
     "data": {
      "text/plain": [
       "<AxesSubplot:xlabel='Sport'>"
      ]
     },
     "execution_count": 7,
     "metadata": {},
     "output_type": "execute_result"
    },
    {
     "data": {
      "image/png": "[encoded data removed]",
      "text/plain": [
       "<Figure size 360x360 with 1 Axes>"
      ]
     },
     "metadata": {
      "needs_background": "light"
     },
     "output_type": "display_data"
    }
   ],
   "source": [
    "medals_per_city.head().plot.bar(x='Sport',y='Medal Count',rot=0, figsize=(5,5))\n"
   ]
  },
  {
   "cell_type": "markdown",
   "id": "84875b07-51f7-4f66-9bcd-ea1f3646155d",
   "metadata": {},
   "source": [
    "# 3. Which sport is having most number of medals so far? (TOP 5)"
   ]
  },
  {
   "cell_type": "code",
   "execution_count": 8,
   "id": "82a6c1e6-636d-4c40-8b15-4b7494d27d21",
   "metadata": {},
   "outputs": [],
   "source": [
    "medals_per_sport = f.groupby('Sport')['Medal'].count().sort_values(ascending = False).reset_index(name = 'Medal Count')\n"
   ]
  },
  {
   "cell_type": "markdown",
   "id": "d2c3c47e-9807-4115-abf6-403899a69235",
   "metadata": {},
   "source": [
    "## DATA FRAME"
   ]
  },
  {
   "cell_type": "code",
   "execution_count": 9,
   "id": "3ebf7c6a-731c-4b09-afd1-0c53e43bb497",
   "metadata": {},
   "outputs": [
    {
     "data": {
      "text/html": [
       "<div>\n",
       "<style scoped>\n",
       "    .dataframe tbody tr th:only-of-type {\n",
       "        vertical-align: middle;\n",
       "    }\n",
       "\n",
       "    .dataframe tbody tr th {\n",
       "        vertical-align: top;\n",
       "    }\n",
       "\n",
       "    .dataframe thead th {\n",
       "        text-align: right;\n",
       "    }\n",
       "</style>\n",
       "<table border=\"1\" class=\"dataframe\">\n",
       "  <thead>\n",
       "    <tr style=\"text-align: right;\">\n",
       "      <th></th>\n",
       "      <th>Sport</th>\n",
       "      <th>Medal Count</th>\n",
       "    </tr>\n",
       "  </thead>\n",
       "  <tbody>\n",
       "    <tr>\n",
       "      <th>0</th>\n",
       "      <td>Aquatics</td>\n",
       "      <td>4170</td>\n",
       "    </tr>\n",
       "    <tr>\n",
       "      <th>1</th>\n",
       "      <td>Athletics</td>\n",
       "      <td>3638</td>\n",
       "    </tr>\n",
       "    <tr>\n",
       "      <th>2</th>\n",
       "      <td>Rowing</td>\n",
       "      <td>2667</td>\n",
       "    </tr>\n",
       "    <tr>\n",
       "      <th>3</th>\n",
       "      <td>Gymnastics</td>\n",
       "      <td>2307</td>\n",
       "    </tr>\n",
       "    <tr>\n",
       "      <th>4</th>\n",
       "      <td>Fencing</td>\n",
       "      <td>1613</td>\n",
       "    </tr>\n",
       "  </tbody>\n",
       "</table>\n",
       "</div>"
      ],
      "text/plain": [
       "        Sport  Medal Count\n",
       "0    Aquatics         4170\n",
       "1   Athletics         3638\n",
       "2      Rowing         2667\n",
       "3  Gymnastics         2307\n",
       "4     Fencing         1613"
      ]
     },
     "execution_count": 9,
     "metadata": {},
     "output_type": "execute_result"
    }
   ],
   "source": [
    "medals_per_sport.head()"
   ]
  },
  {
   "cell_type": "markdown",
   "id": "270e5cb5-cd45-4a2b-9545-5fd53c09b52c",
   "metadata": {},
   "source": [
    "## GRAPH"
   ]
  },
  {
   "cell_type": "code",
   "execution_count": 10,
   "id": "295edb97-cb73-4ac9-ac2a-e69d610dbe9c",
   "metadata": {},
   "outputs": [
    {
     "data": {
      "text/plain": [
       "<AxesSubplot:xlabel='Sport'>"
      ]
     },
     "execution_count": 10,
     "metadata": {},
     "output_type": "execute_result"
    },
    {
     "data": {
      "image/png": "[encoded data removed]",
      "text/plain": [
       "<Figure size 360x360 with 1 Axes>"
      ]
     },
     "metadata": {
      "needs_background": "light"
     },
     "output_type": "display_data"
    }
   ],
   "source": [
    "medals_per_sport.head().plot.bar(x='Sport',y='Medal Count', rot =0, figsize= (5,5))\n"
   ]
  },
  {
   "cell_type": "markdown",
   "id": "fd708d33-d32f-4229-9a23-654bebde9d2e",
   "metadata": {},
   "source": [
    "# 4. Which player has won most number of medals? (TOP 5)"
   ]
  },
  {
   "cell_type": "code",
   "execution_count": 11,
   "id": "c2535d50-d8e5-4df0-a53e-8407ca5b6783",
   "metadata": {},
   "outputs": [],
   "source": [
    "medals_per_player = f.groupby('Athlete')['Medal'].count().sort_values(ascending = False).reset_index(name = 'Medal Count')\n"
   ]
  },
  {
   "cell_type": "markdown",
   "id": "8ef3c878-93ef-4197-90d3-7412896c0f88",
   "metadata": {},
   "source": [
    "## DATA FRAME"
   ]
  },
  {
   "cell_type": "code",
   "execution_count": 12,
   "id": "9cbfd0f8-72a6-4447-80e1-d25acf2cf4c3",
   "metadata": {},
   "outputs": [
    {
     "data": {
      "text/html": [
       "<div>\n",
       "<style scoped>\n",
       "    .dataframe tbody tr th:only-of-type {\n",
       "        vertical-align: middle;\n",
       "    }\n",
       "\n",
       "    .dataframe tbody tr th {\n",
       "        vertical-align: top;\n",
       "    }\n",
       "\n",
       "    .dataframe thead th {\n",
       "        text-align: right;\n",
       "    }\n",
       "</style>\n",
       "<table border=\"1\" class=\"dataframe\">\n",
       "  <thead>\n",
       "    <tr style=\"text-align: right;\">\n",
       "      <th></th>\n",
       "      <th>Athlete</th>\n",
       "      <th>Medal Count</th>\n",
       "    </tr>\n",
       "  </thead>\n",
       "  <tbody>\n",
       "    <tr>\n",
       "      <th>0</th>\n",
       "      <td>PHELPS, Michael</td>\n",
       "      <td>22</td>\n",
       "    </tr>\n",
       "    <tr>\n",
       "      <th>1</th>\n",
       "      <td>LATYNINA, Larisa</td>\n",
       "      <td>18</td>\n",
       "    </tr>\n",
       "    <tr>\n",
       "      <th>2</th>\n",
       "      <td>ANDRIANOV, Nikolay</td>\n",
       "      <td>15</td>\n",
       "    </tr>\n",
       "    <tr>\n",
       "      <th>3</th>\n",
       "      <td>MANGIAROTTI, Edoardo</td>\n",
       "      <td>13</td>\n",
       "    </tr>\n",
       "    <tr>\n",
       "      <th>4</th>\n",
       "      <td>ONO, Takashi</td>\n",
       "      <td>13</td>\n",
       "    </tr>\n",
       "  </tbody>\n",
       "</table>\n",
       "</div>"
      ],
      "text/plain": [
       "                Athlete  Medal Count\n",
       "0       PHELPS, Michael           22\n",
       "1      LATYNINA, Larisa           18\n",
       "2    ANDRIANOV, Nikolay           15\n",
       "3  MANGIAROTTI, Edoardo           13\n",
       "4          ONO, Takashi           13"
      ]
     },
     "execution_count": 12,
     "metadata": {},
     "output_type": "execute_result"
    }
   ],
   "source": [
    "medals_per_player.head()"
   ]
  },
  {
   "cell_type": "markdown",
   "id": "a2897624-87ce-4d9e-b2e6-44a4aa33e598",
   "metadata": {},
   "source": [
    "## GRAPH"
   ]
  },
  {
   "cell_type": "code",
   "execution_count": 14,
   "id": "fddc3b3c-3a15-4783-9b6b-779f765c9a2b",
   "metadata": {},
   "outputs": [
    {
     "data": {
      "text/plain": [
       "<AxesSubplot:xlabel='Athlete'>"
      ]
     },
     "execution_count": 14,
     "metadata": {},
     "output_type": "execute_result"
    },
    {
     "data": {
      "image/png": "[encoded data removed]",
      "text/plain": [
       "<Figure size 360x360 with 1 Axes>"
      ]
     },
     "metadata": {
      "needs_background": "light"
     },
     "output_type": "display_data"
    }
   ],
   "source": [
    "medals_per_player.head().plot.bar(x='Athlete', y='Medal Count', rot=20, figsize= (5,5))\n"
   ]
  },
  {
   "cell_type": "markdown",
   "id": "f289e2c4-f9d7-4a2e-b04f-d71188fbf1c9",
   "metadata": {},
   "source": [
    "# 5. Which player has won most number Gold Medals of medals? (TOP 5)"
   ]
  },
  {
   "cell_type": "code",
   "execution_count": 15,
   "id": "bd693a45-084a-4c65-ae0f-f78059bd14a5",
   "metadata": {},
   "outputs": [],
   "source": [
    "medals_per_player_gold = gold.groupby('Athlete')['Medal'].count().sort_values(ascending = False).reset_index(name = 'Medal Count')\n"
   ]
  },
  {
   "cell_type": "markdown",
   "id": "5c3c298b-8605-44f2-89ea-681618d7ae5f",
   "metadata": {},
   "source": [
    "## DATA FRAME"
   ]
  },
  {
   "cell_type": "code",
   "execution_count": 16,
   "id": "1dc52ce6-e2a7-4f23-af9b-8dfcc2e25389",
   "metadata": {},
   "outputs": [
    {
     "data": {
      "text/html": [
       "<div>\n",
       "<style scoped>\n",
       "    .dataframe tbody tr th:only-of-type {\n",
       "        vertical-align: middle;\n",
       "    }\n",
       "\n",
       "    .dataframe tbody tr th {\n",
       "        vertical-align: top;\n",
       "    }\n",
       "\n",
       "    .dataframe thead th {\n",
       "        text-align: right;\n",
       "    }\n",
       "</style>\n",
       "<table border=\"1\" class=\"dataframe\">\n",
       "  <thead>\n",
       "    <tr style=\"text-align: right;\">\n",
       "      <th></th>\n",
       "      <th>Athlete</th>\n",
       "      <th>Medal Count</th>\n",
       "    </tr>\n",
       "  </thead>\n",
       "  <tbody>\n",
       "    <tr>\n",
       "      <th>0</th>\n",
       "      <td>PHELPS, Michael</td>\n",
       "      <td>18</td>\n",
       "    </tr>\n",
       "    <tr>\n",
       "      <th>1</th>\n",
       "      <td>LEWIS, Carl</td>\n",
       "      <td>9</td>\n",
       "    </tr>\n",
       "    <tr>\n",
       "      <th>2</th>\n",
       "      <td>NURMI, Paavo</td>\n",
       "      <td>9</td>\n",
       "    </tr>\n",
       "    <tr>\n",
       "      <th>3</th>\n",
       "      <td>SPITZ, Mark</td>\n",
       "      <td>9</td>\n",
       "    </tr>\n",
       "    <tr>\n",
       "      <th>4</th>\n",
       "      <td>LATYNINA, Larisa</td>\n",
       "      <td>9</td>\n",
       "    </tr>\n",
       "  </tbody>\n",
       "</table>\n",
       "</div>"
      ],
      "text/plain": [
       "            Athlete  Medal Count\n",
       "0   PHELPS, Michael           18\n",
       "1       LEWIS, Carl            9\n",
       "2      NURMI, Paavo            9\n",
       "3       SPITZ, Mark            9\n",
       "4  LATYNINA, Larisa            9"
      ]
     },
     "execution_count": 16,
     "metadata": {},
     "output_type": "execute_result"
    }
   ],
   "source": [
    "medals_per_player_gold.head()"
   ]
  },
  {
   "cell_type": "markdown",
   "id": "112e332d-8d34-4041-8b3e-721434ceabef",
   "metadata": {},
   "source": [
    "## GRAPH"
   ]
  },
  {
   "cell_type": "code",
   "execution_count": 17,
   "id": "b593e807-2e6f-481c-9e88-1eee24374ebb",
   "metadata": {},
   "outputs": [
    {
     "data": {
      "text/plain": [
       "<AxesSubplot:xlabel='Athlete'>"
      ]
     },
     "execution_count": 17,
     "metadata": {},
     "output_type": "execute_result"
    },
    {
     "data": {
      "image/png": "[encoded data removed]",
      "text/plain": [
       "<Figure size 360x360 with 1 Axes>"
      ]
     },
     "metadata": {
      "needs_background": "light"
     },
     "output_type": "display_data"
    }
   ],
   "source": [
    "medals_per_player_gold.head().plot.bar(x='Athlete',y= 'Medal Count', figsize=(5,5), rot=0)\n"
   ]
  },
  {
   "cell_type": "markdown",
   "id": "146122e4-34f2-4f8b-ad07-a8fba42916bb",
   "metadata": {},
   "source": [
    "# 6. In which year India won first Gold Medal in Summer Olympics?"
   ]
  },
  {
   "cell_type": "code",
   "execution_count": 18,
   "id": "88ff3c68-5bda-4428-a269-3e757d4d8bdb",
   "metadata": {},
   "outputs": [],
   "source": [
    "india_df = gold[gold['Country']=='IND']"
   ]
  },
  {
   "cell_type": "markdown",
   "id": "b3b467ed-aa34-4d94-aacc-2481760660ce",
   "metadata": {},
   "source": [
    "## DATA FRAME"
   ]
  },
  {
   "cell_type": "code",
   "execution_count": 19,
   "id": "9e5ccf46-e6e0-4632-a2d9-0d2e6a60bf2f",
   "metadata": {},
   "outputs": [
    {
     "data": {
      "text/html": [
       "<div>\n",
       "<style scoped>\n",
       "    .dataframe tbody tr th:only-of-type {\n",
       "        vertical-align: middle;\n",
       "    }\n",
       "\n",
       "    .dataframe tbody tr th {\n",
       "        vertical-align: top;\n",
       "    }\n",
       "\n",
       "    .dataframe thead th {\n",
       "        text-align: right;\n",
       "    }\n",
       "</style>\n",
       "<table border=\"1\" class=\"dataframe\">\n",
       "  <thead>\n",
       "    <tr style=\"text-align: right;\">\n",
       "      <th></th>\n",
       "      <th>Year</th>\n",
       "      <th>City</th>\n",
       "      <th>Sport</th>\n",
       "      <th>Discipline</th>\n",
       "      <th>Athlete</th>\n",
       "      <th>Country</th>\n",
       "      <th>Gender</th>\n",
       "      <th>Event</th>\n",
       "      <th>Medal</th>\n",
       "    </tr>\n",
       "  </thead>\n",
       "  <tbody>\n",
       "    <tr>\n",
       "      <th>5512</th>\n",
       "      <td>1928</td>\n",
       "      <td>Amsterdam</td>\n",
       "      <td>Hockey</td>\n",
       "      <td>Hockey</td>\n",
       "      <td>ALLEN, Richard James</td>\n",
       "      <td>IND</td>\n",
       "      <td>Men</td>\n",
       "      <td>Hockey</td>\n",
       "      <td>Gold</td>\n",
       "    </tr>\n",
       "  </tbody>\n",
       "</table>\n",
       "</div>"
      ],
      "text/plain": [
       "      Year       City   Sport Discipline               Athlete Country Gender  \\\n",
       "5512  1928  Amsterdam  Hockey     Hockey  ALLEN, Richard James     IND    Men   \n",
       "\n",
       "       Event Medal  \n",
       "5512  Hockey  Gold  "
      ]
     },
     "execution_count": 19,
     "metadata": {},
     "output_type": "execute_result"
    }
   ],
   "source": [
    "india_df.head(1)"
   ]
  },
  {
   "cell_type": "markdown",
   "id": "4fa6db4d-2126-44d5-a0ab-6548f8cb26fa",
   "metadata": {},
   "source": [
    "# 7. Which event is most popular in terms on number of players? (TOP 5)"
   ]
  },
  {
   "cell_type": "code",
   "execution_count": 20,
   "id": "8f51f4ea-4690-478b-b8a7-a9b3a7f2ffb3",
   "metadata": {},
   "outputs": [],
   "source": [
    "all_sports = list(f['Event'].unique())\n",
    "counts=[]\n",
    "for i in all_sports:\n",
    "    counts.append(f[f['Event'] == i].count()[0])\n",
    "    \n",
    "d={'Rank':[],'Sport':[]}\n",
    "for j in range(5):\n",
    "    num = counts.index(max(counts))\n",
    "    d['Rank'].append(j+1)\n",
    "    d['Sport'].append(all_sports[num])\n",
    "    counts.pop(num)\n",
    "    all_sports.pop(num)\n",
    "  \n",
    "popular = pd.DataFrame(d)"
   ]
  },
  {
   "cell_type": "markdown",
   "id": "9f7eafdf-3a1b-42e8-a22a-c9050e007a54",
   "metadata": {},
   "source": [
    "## DATA FRAME"
   ]
  },
  {
   "cell_type": "code",
   "execution_count": 21,
   "id": "7861db42-04de-44a0-9193-10ae57091898",
   "metadata": {},
   "outputs": [
    {
     "data": {
      "text/html": [
       "<div>\n",
       "<style scoped>\n",
       "    .dataframe tbody tr th:only-of-type {\n",
       "        vertical-align: middle;\n",
       "    }\n",
       "\n",
       "    .dataframe tbody tr th {\n",
       "        vertical-align: top;\n",
       "    }\n",
       "\n",
       "    .dataframe thead th {\n",
       "        text-align: right;\n",
       "    }\n",
       "</style>\n",
       "<table border=\"1\" class=\"dataframe\">\n",
       "  <thead>\n",
       "    <tr style=\"text-align: right;\">\n",
       "      <th></th>\n",
       "      <th>Rank</th>\n",
       "      <th>Sport</th>\n",
       "    </tr>\n",
       "  </thead>\n",
       "  <tbody>\n",
       "    <tr>\n",
       "      <th>0</th>\n",
       "      <td>1</td>\n",
       "      <td>Football</td>\n",
       "    </tr>\n",
       "    <tr>\n",
       "      <th>1</th>\n",
       "      <td>2</td>\n",
       "      <td>Hockey</td>\n",
       "    </tr>\n",
       "    <tr>\n",
       "      <th>2</th>\n",
       "      <td>3</td>\n",
       "      <td>Team Competition</td>\n",
       "    </tr>\n",
       "    <tr>\n",
       "      <th>3</th>\n",
       "      <td>4</td>\n",
       "      <td>Basketball</td>\n",
       "    </tr>\n",
       "    <tr>\n",
       "      <th>4</th>\n",
       "      <td>5</td>\n",
       "      <td>Handball</td>\n",
       "    </tr>\n",
       "  </tbody>\n",
       "</table>\n",
       "</div>"
      ],
      "text/plain": [
       "   Rank             Sport\n",
       "0     1          Football\n",
       "1     2            Hockey\n",
       "2     3  Team Competition\n",
       "3     4        Basketball\n",
       "4     5          Handball"
      ]
     },
     "execution_count": 21,
     "metadata": {},
     "output_type": "execute_result"
    }
   ],
   "source": [
    "popular"
   ]
  },
  {
   "cell_type": "markdown",
   "id": "acdf0099-1526-43a7-aa18-361bc45e75f1",
   "metadata": {},
   "source": [
    "## GRAPH"
   ]
  },
  {
   "cell_type": "code",
   "execution_count": 22,
   "id": "287e4416-9146-4972-a4a1-3c221c19813c",
   "metadata": {},
   "outputs": [
    {
     "data": {
      "text/plain": [
       "<AxesSubplot:xlabel='Sport'>"
      ]
     },
     "execution_count": 22,
     "metadata": {},
     "output_type": "execute_result"
    },
    {
     "data": {
      "image/png": "[encoded data removed]",
      "text/plain": [
       "<Figure size 360x360 with 1 Axes>"
      ]
     },
     "metadata": {
      "needs_background": "light"
     },
     "output_type": "display_data"
    }
   ],
   "source": [
    "popular.head().plot.bar(x='Sport',y='Rank',rot=20, figsize=(5,5))\n"
   ]
  },
  {
   "cell_type": "markdown",
   "id": "9e9add2c-4da1-4985-9848-ee25bf9185a2",
   "metadata": {},
   "source": [
    "# 8. Which sport is having most female Gold Medalists? (TOP 5)"
   ]
  },
  {
   "cell_type": "code",
   "execution_count": 23,
   "id": "eb82eed9-55e5-45d4-98b8-49b2f22d6055",
   "metadata": {},
   "outputs": [],
   "source": [
    "female_df = gold[gold['Gender'] == 'Women']\n",
    "female_df = female_df.groupby('Sport').count()\n",
    "female_df = female_df.sort_values(by='Medal',ascending = False)\n",
    "del female_df['Year']\n",
    "del female_df['City']\n",
    "del female_df['Discipline']\n",
    "del female_df['Athlete']\n",
    "del female_df['Country']\n",
    "del female_df['Gender']\n",
    "del female_df['Event']"
   ]
  },
  {
   "cell_type": "markdown",
   "id": "623933e5-5cff-4609-ba12-cd09323b5bfe",
   "metadata": {},
   "source": [
    "## DATA FRAME"
   ]
  },
  {
   "cell_type": "code",
   "execution_count": 24,
   "id": "dd6ef900-0fc7-4b02-b0a1-88255923c52c",
   "metadata": {},
   "outputs": [
    {
     "data": {
      "text/html": [
       "<div>\n",
       "<style scoped>\n",
       "    .dataframe tbody tr th:only-of-type {\n",
       "        vertical-align: middle;\n",
       "    }\n",
       "\n",
       "    .dataframe tbody tr th {\n",
       "        vertical-align: top;\n",
       "    }\n",
       "\n",
       "    .dataframe thead th {\n",
       "        text-align: right;\n",
       "    }\n",
       "</style>\n",
       "<table border=\"1\" class=\"dataframe\">\n",
       "  <thead>\n",
       "    <tr style=\"text-align: right;\">\n",
       "      <th></th>\n",
       "      <th>Medal</th>\n",
       "    </tr>\n",
       "    <tr>\n",
       "      <th>Sport</th>\n",
       "      <th></th>\n",
       "    </tr>\n",
       "  </thead>\n",
       "  <tbody>\n",
       "    <tr>\n",
       "      <th>Aquatics</th>\n",
       "      <td>589</td>\n",
       "    </tr>\n",
       "    <tr>\n",
       "      <th>Athletics</th>\n",
       "      <td>389</td>\n",
       "    </tr>\n",
       "    <tr>\n",
       "      <th>Gymnastics</th>\n",
       "      <td>268</td>\n",
       "    </tr>\n",
       "    <tr>\n",
       "      <th>Rowing</th>\n",
       "      <td>217</td>\n",
       "    </tr>\n",
       "    <tr>\n",
       "      <th>Volleyball</th>\n",
       "      <td>166</td>\n",
       "    </tr>\n",
       "  </tbody>\n",
       "</table>\n",
       "</div>"
      ],
      "text/plain": [
       "            Medal\n",
       "Sport            \n",
       "Aquatics      589\n",
       "Athletics     389\n",
       "Gymnastics    268\n",
       "Rowing        217\n",
       "Volleyball    166"
      ]
     },
     "execution_count": 24,
     "metadata": {},
     "output_type": "execute_result"
    }
   ],
   "source": [
    "female_df.head()"
   ]
  },
  {
   "cell_type": "markdown",
   "id": "8aebae73-fe13-4509-8d0d-9cf2899ea8c4",
   "metadata": {},
   "source": [
    "## GRAPH"
   ]
  },
  {
   "cell_type": "code",
   "execution_count": 26,
   "id": "b5afb688-ca52-4570-9985-09d18507d3fd",
   "metadata": {},
   "outputs": [
    {
     "data": {
      "text/plain": [
       "<AxesSubplot:xlabel='Sport'>"
      ]
     },
     "execution_count": 26,
     "metadata": {},
     "output_type": "execute_result"
    },
    {
     "data": {
      "image/png": "[encoded data removed]",
      "text/plain": [
       "<Figure size 360x360 with 1 Axes>"
      ]
     },
     "metadata": {
      "needs_background": "light"
     },
     "output_type": "display_data"
    }
   ],
   "source": [
    "female_df.head().plot(kind = 'bar' , figsize = (5,5), rot=0)\n"
   ]
  },
  {
   "cell_type": "markdown",
   "id": "e37e91cd-a921-49ec-b73a-b208b831186d",
   "metadata": {},
   "source": [
    "# By:-   Happy Dilipbhai Mistry"
   ]
  }
 ],
 "metadata": {
  "kernelspec": {
   "display_name": "Python 3 (ipykernel)",
   "language": "python",
   "name": "python3"
  },
  "language_info": {
   "codemirror_mode": {
    "name": "ipython",
    "version": 3
   },
   "file_extension": ".py",
   "mimetype": "text/x-python",
   "name": "python",
   "nbconvert_exporter": "python",
   "pygments_lexer": "ipython3",
   "version": "3.9.6"
  }
 },
 "nbformat": 4,
 "nbformat_minor": 5
}
